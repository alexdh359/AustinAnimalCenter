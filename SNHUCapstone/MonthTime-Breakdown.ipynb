{
 "cells": [
  {
   "cell_type": "code",
   "execution_count": 1,
   "metadata": {},
   "outputs": [],
   "source": [
    "import numpy as np\n",
    "import pandas as pd\n",
    "import datetime"
   ]
  },
  {
   "cell_type": "code",
   "execution_count": 2,
   "metadata": {},
   "outputs": [],
   "source": [
    "records = pd.read_csv('Austin_Animal_Center_Intakes.csv')"
   ]
  },
  {
   "cell_type": "code",
   "execution_count": 3,
   "metadata": {},
   "outputs": [],
   "source": [
    "strayIn = records[records[\"Intake Type\"] == 'Stray']"
   ]
  },
  {
   "cell_type": "code",
   "execution_count": 4,
   "metadata": {},
   "outputs": [
    {
     "data": {
      "text/html": [
       "<div>\n",
       "<style scoped>\n",
       "    .dataframe tbody tr th:only-of-type {\n",
       "        vertical-align: middle;\n",
       "    }\n",
       "\n",
       "    .dataframe tbody tr th {\n",
       "        vertical-align: top;\n",
       "    }\n",
       "\n",
       "    .dataframe thead th {\n",
       "        text-align: right;\n",
       "    }\n",
       "</style>\n",
       "<table border=\"1\" class=\"dataframe\">\n",
       "  <thead>\n",
       "    <tr style=\"text-align: right;\">\n",
       "      <th></th>\n",
       "      <th>Unnamed: 0</th>\n",
       "      <th>Animal ID</th>\n",
       "      <th>Name</th>\n",
       "      <th>DateTime</th>\n",
       "      <th>MonthYear</th>\n",
       "      <th>Found Location</th>\n",
       "      <th>Intake Type</th>\n",
       "      <th>Intake Condition</th>\n",
       "      <th>Animal Type</th>\n",
       "      <th>Sex upon Intake</th>\n",
       "      <th>Age upon Intake</th>\n",
       "      <th>Breed</th>\n",
       "      <th>Color</th>\n",
       "    </tr>\n",
       "  </thead>\n",
       "  <tbody>\n",
       "    <tr>\n",
       "      <th>0</th>\n",
       "      <td>0</td>\n",
       "      <td>A748291</td>\n",
       "      <td>*Madison</td>\n",
       "      <td>05/01/2017 02:26:00 PM</td>\n",
       "      <td>05/01/2017 02:26:00 PM</td>\n",
       "      <td>S Pleasant Valley Rd And E Riverside Dr in Aus...</td>\n",
       "      <td>Stray</td>\n",
       "      <td>Normal</td>\n",
       "      <td>Dog</td>\n",
       "      <td>Intact Female</td>\n",
       "      <td>10 months</td>\n",
       "      <td>Pit Bull Mix</td>\n",
       "      <td>Black</td>\n",
       "    </tr>\n",
       "    <tr>\n",
       "      <th>1</th>\n",
       "      <td>1</td>\n",
       "      <td>A750529</td>\n",
       "      <td>NaN</td>\n",
       "      <td>05/28/2017 01:22:00 PM</td>\n",
       "      <td>05/28/2017 01:22:00 PM</td>\n",
       "      <td>8312 North Ih 35 in Austin (TX)</td>\n",
       "      <td>Stray</td>\n",
       "      <td>Normal</td>\n",
       "      <td>Dog</td>\n",
       "      <td>Intact Female</td>\n",
       "      <td>5 months</td>\n",
       "      <td>Miniature Schnauzer Mix</td>\n",
       "      <td>White/Cream</td>\n",
       "    </tr>\n",
       "    <tr>\n",
       "      <th>2</th>\n",
       "      <td>2</td>\n",
       "      <td>A730601</td>\n",
       "      <td>NaN</td>\n",
       "      <td>07/07/2016 12:11:00 PM</td>\n",
       "      <td>07/07/2016 12:11:00 PM</td>\n",
       "      <td>1109 Shady Ln in Austin (TX)</td>\n",
       "      <td>Stray</td>\n",
       "      <td>Normal</td>\n",
       "      <td>Cat</td>\n",
       "      <td>Intact Male</td>\n",
       "      <td>7 months</td>\n",
       "      <td>Domestic Shorthair Mix</td>\n",
       "      <td>Blue Tabby</td>\n",
       "    </tr>\n",
       "    <tr>\n",
       "      <th>3</th>\n",
       "      <td>3</td>\n",
       "      <td>A748238</td>\n",
       "      <td>NaN</td>\n",
       "      <td>05/01/2017 10:53:00 AM</td>\n",
       "      <td>05/01/2017 10:53:00 AM</td>\n",
       "      <td>Airport Blvd And Oak Springs Dr in Austin (TX)</td>\n",
       "      <td>Stray</td>\n",
       "      <td>Normal</td>\n",
       "      <td>Dog</td>\n",
       "      <td>Intact Male</td>\n",
       "      <td>3 years</td>\n",
       "      <td>Bichon Frise Mix</td>\n",
       "      <td>White</td>\n",
       "    </tr>\n",
       "    <tr>\n",
       "      <th>7</th>\n",
       "      <td>7</td>\n",
       "      <td>A676515</td>\n",
       "      <td>Rico</td>\n",
       "      <td>04/11/2014 08:45:00 AM</td>\n",
       "      <td>04/11/2014 08:45:00 AM</td>\n",
       "      <td>615 E. Wonsley in Austin (TX)</td>\n",
       "      <td>Stray</td>\n",
       "      <td>Normal</td>\n",
       "      <td>Dog</td>\n",
       "      <td>Intact Male</td>\n",
       "      <td>2 months</td>\n",
       "      <td>Pit Bull Mix</td>\n",
       "      <td>White/Brown</td>\n",
       "    </tr>\n",
       "  </tbody>\n",
       "</table>\n",
       "</div>"
      ],
      "text/plain": [
       "   Unnamed: 0 Animal ID      Name                DateTime  \\\n",
       "0           0   A748291  *Madison  05/01/2017 02:26:00 PM   \n",
       "1           1   A750529       NaN  05/28/2017 01:22:00 PM   \n",
       "2           2   A730601       NaN  07/07/2016 12:11:00 PM   \n",
       "3           3   A748238       NaN  05/01/2017 10:53:00 AM   \n",
       "7           7   A676515      Rico  04/11/2014 08:45:00 AM   \n",
       "\n",
       "                MonthYear                                     Found Location  \\\n",
       "0  05/01/2017 02:26:00 PM  S Pleasant Valley Rd And E Riverside Dr in Aus...   \n",
       "1  05/28/2017 01:22:00 PM                    8312 North Ih 35 in Austin (TX)   \n",
       "2  07/07/2016 12:11:00 PM                       1109 Shady Ln in Austin (TX)   \n",
       "3  05/01/2017 10:53:00 AM     Airport Blvd And Oak Springs Dr in Austin (TX)   \n",
       "7  04/11/2014 08:45:00 AM                      615 E. Wonsley in Austin (TX)   \n",
       "\n",
       "  Intake Type Intake Condition Animal Type Sex upon Intake Age upon Intake  \\\n",
       "0       Stray           Normal         Dog   Intact Female       10 months   \n",
       "1       Stray           Normal         Dog   Intact Female        5 months   \n",
       "2       Stray           Normal         Cat     Intact Male        7 months   \n",
       "3       Stray           Normal         Dog     Intact Male         3 years   \n",
       "7       Stray           Normal         Dog     Intact Male        2 months   \n",
       "\n",
       "                     Breed        Color  \n",
       "0             Pit Bull Mix        Black  \n",
       "1  Miniature Schnauzer Mix  White/Cream  \n",
       "2   Domestic Shorthair Mix   Blue Tabby  \n",
       "3         Bichon Frise Mix        White  \n",
       "7             Pit Bull Mix  White/Brown  "
      ]
     },
     "execution_count": 4,
     "metadata": {},
     "output_type": "execute_result"
    }
   ],
   "source": [
    "strayIn.head()"
   ]
  },
  {
   "cell_type": "code",
   "execution_count": 5,
   "metadata": {},
   "outputs": [],
   "source": [
    "#df['year'] = pd.DatetimeIndex(strayIn['DateTime']).year\n",
    "#df['month'] = pd.DatetimeIndex(strayIn['DateTime']).month\n",
    "#series =  pd.DatetimeIndex(strayIn['DateTime']).to_period('M')"
   ]
  },
  {
   "cell_type": "code",
   "execution_count": 6,
   "metadata": {},
   "outputs": [],
   "source": [
    "\n",
    "df = pd.DataFrame()\n",
    "df['month_year'] = pd.to_datetime(strayIn['DateTime']).dt.to_period('Q')\n",
    "counts = df['month_year'].value_counts()\n",
    "\n",
    "#counts = counts.reset_index()"
   ]
  },
  {
   "cell_type": "code",
   "execution_count": 10,
   "metadata": {},
   "outputs": [
    {
     "data": {
      "image/png": "[encoded data removed]",
      "text/plain": [
       "<Figure size 1008x360 with 1 Axes>"
      ]
     },
     "metadata": {
      "needs_background": "light"
     },
     "output_type": "display_data"
    }
   ],
   "source": [
    "counts.sort_index(inplace=True)\n",
    "counts.plot(kind='bar',rot=90, title='Strays Brought In',figsize=(14,5), colormap = 'Paired');\n"
   ]
  },
  {
   "cell_type": "code",
   "execution_count": 8,
   "metadata": {},
   "outputs": [
    {
     "data": {
      "image/png": "[encoded data removed]",
      "text/plain": [
       "<Figure size 1008x360 with 1 Axes>"
      ]
     },
     "metadata": {
      "needs_background": "light"
     },
     "output_type": "display_data"
    }
   ],
   "source": [
    "injury = records[records[\"Intake Condition\"] == 'Injured']\n",
    "injured = pd.DataFrame()\n",
    "injured['month_year'] = pd.to_datetime(injury['DateTime']).dt.to_period('Q')\n",
    "countInjured = injured['month_year'].value_counts()\n",
    "countInjured.sort_index(inplace=True)\n",
    "countInjured.plot(kind='bar',rot=90, title='Injured Brought In',figsize=(14,5), colormap = 'Paired');"
   ]
  },
  {
   "cell_type": "code",
   "execution_count": 9,
   "metadata": {},
   "outputs": [
    {
     "data": {
      "image/png": "[encoded data removed]",
      "text/plain": [
       "<Figure size 1008x360 with 1 Axes>"
      ]
     },
     "metadata": {
      "needs_background": "light"
     },
     "output_type": "display_data"
    }
   ],
   "source": [
    "sick = records[records[\"Intake Condition\"] == 'Injured']\n",
    "ill = pd.DataFrame()\n",
    "ill['month_year'] = pd.to_datetime(sick['DateTime']).dt.to_period('Q')\n",
    "countIll = ill['month_year'].value_counts()\n",
    "countIll.sort_index(inplace=True)\n",
    "countIll.plot(kind='bar',rot=90, title='Sick Brought In',figsize=(14,5), colormap = 'Paired');"
   ]
  },
  {
   "cell_type": "code",
   "execution_count": null,
   "metadata": {},
   "outputs": [],
   "source": []
  },
  {
   "cell_type": "code",
   "execution_count": null,
   "metadata": {},
   "outputs": [],
   "source": []
  }
 ],
 "metadata": {
  "kernelspec": {
   "display_name": "Python 3",
   "language": "python",
   "name": "python3"
  },
  "language_info": {
   "codemirror_mode": {
    "name": "ipython",
    "version": 3
   },
   "file_extension": ".py",
   "mimetype": "text/x-python",
   "name": "python",
   "nbconvert_exporter": "python",
   "pygments_lexer": "ipython3",
   "version": "3.6.8"
  }
 },
 "nbformat": 4,
 "nbformat_minor": 2
}
